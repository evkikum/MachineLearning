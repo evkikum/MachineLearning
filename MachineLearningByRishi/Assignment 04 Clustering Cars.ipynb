{
 "cells": [
  {
   "cell_type": "markdown",
   "metadata": {},
   "source": [
    "Cars Data has Information about 3 brands/make of cars. Namely US, Japan, Europe. Target of the data set to find the brand of a car using the parameters such as horsepower, Cubic inches, Make year, etc."
   ]
  },
  {
   "cell_type": "code",
   "execution_count": 24,
   "metadata": {},
   "outputs": [],
   "source": [
    "import matplotlib.pyplot as plt\n",
    "import pandas as pd\n",
    "\n",
    "# Importing the dataset\n",
    "dataset = pd.read_csv(\"Data/Unsupervised/cars.csv\")\n",
    "\n",
    "\n"
   ]
  },
  {
   "cell_type": "code",
   "execution_count": 8,
   "metadata": {},
   "outputs": [
    {
     "data": {
      "text/plain": [
       "mpg            float64\n",
       "cylinders        int64\n",
       "cubicinches      int64\n",
       "hp               int64\n",
       "weightlbs        int64\n",
       "time-to-60       int64\n",
       "year             int64\n",
       "dtype: object"
      ]
     },
     "execution_count": 8,
     "metadata": {},
     "output_type": "execute_result"
    }
   ],
   "source": [
    "#Remove spaces from the Column names\n",
    "dataset.columns = dataset.columns.str.strip()\n",
    "\n",
    "#Check the data types of all columns\n",
    "dataset.dtypes"
   ]
  },
  {
   "cell_type": "code",
   "execution_count": 25,
   "metadata": {},
   "outputs": [],
   "source": [
    "#feature_col_names = ['mpg', 'cylinders', 'cubicinches', 'hp', 'weightlbs', 'time-to-60', 'year']\n",
    "\n",
    "\n",
    "#X = dataset[feature_col_names].values  \n",
    "X = dataset.iloc[:, :].values"
   ]
  },
  {
   "cell_type": "code",
   "execution_count": 26,
   "metadata": {},
   "outputs": [
    {
     "data": {
      "image/png": "[encoded data removed]",
      "text/plain": [
       "<Figure size 432x288 with 1 Axes>"
      ]
     },
     "metadata": {
      "needs_background": "light"
     },
     "output_type": "display_data"
    }
   ],
   "source": [
    "# Using the elbow method to find the optimal number of clusters\n",
    "from sklearn.cluster import KMeans\n",
    "wcss = []\n",
    "for i in range(1, 11):\n",
    "    k_means = KMeans(n_clusters = i, init = 'k-means++', random_state = 42)\n",
    "    k_means.fit(X)\n",
    "    wcss.append(k_means.inertia_)\n",
    "plt.plot(range(1, 11), wcss)\n",
    "plt.title('Elbow Method')\n",
    "plt.xlabel('Number of Clusters')\n",
    "plt.ylabel('WCSS')\n",
    "plt.show()"
   ]
  },
  {
   "cell_type": "code",
   "execution_count": 27,
   "metadata": {},
   "outputs": [],
   "source": [
    "# Applying k-means to the cars dataset\n",
    "model = KMeans(n_clusters = 3, init = 'k-means++', random_state = 42)\n",
    "model_predict = model.fit_predict(X)\n"
   ]
  },
  {
   "cell_type": "code",
   "execution_count": 30,
   "metadata": {},
   "outputs": [
    {
     "name": "stdout",
     "output_type": "stream",
     "text": [
      "[0 1 2 0 1 0 0 0 2 1 1 1 0 2 0 0 1 2 1 1 1 1 2 0 1 1 1 0 2 1 1 2 1 2 1 2 1\n",
      " 1 0 2 0 0 2 2 2 1 0 1 1 2 0 2 2 1 0 0 2 1 1 0 2 1 2 1 0 2 1 1 1 0 2 1 1 1\n",
      " 1 2 2 1 1 1 0 0 2 1 1 1 2 2 1 1 1 1 0 2 1 0 0 2 0 0 0 0 1 1 1 1 1 1 1 2 1\n",
      " 2 0 1 1 0 2 2 1 0 1 1 0 2 1 1 0 1 1 1 1 1 0 2 0 0 1 2 2 2 1 1 1 1 2 2 2 2\n",
      " 2 2 1 1 0 2 1 2 1 1 1 2 2 0 2 2 1 2 2 1 2 1 1 2 1 1 1 1 0 2 2 1 2 1 0 2 1\n",
      " 2 2 0 0 0 1 1 0 0 0 1 1 1 1 1 1 1 2 2 1 0 1 2 0 2 2 2 1 1 2 1 1 0 1 0 2 2\n",
      " 0 0 0 1 0 1 1 2 2 1 1 0 2 1 0 2 1 1 0 2 0 1 0 2 0 1 1 1 1 1 2 0 2 1 0 1 2\n",
      " 2 2]\n"
     ]
    }
   ],
   "source": [
    "print(model_predict)"
   ]
  },
  {
   "cell_type": "code",
   "execution_count": 29,
   "metadata": {},
   "outputs": [
    {
     "data": {
      "image/png": "[encoded data removed]",
      "text/plain": [
       "<Figure size 432x288 with 1 Axes>"
      ]
     },
     "metadata": {
      "needs_background": "light"
     },
     "output_type": "display_data"
    }
   ],
   "source": [
    "# Visualising the clusters\n",
    "size = 25\n",
    "plt.scatter(X[model_predict == 0, 0], X[model_predict == 0, 1], s = size, c = 'cyan', label = 'Brand 1')\n",
    "plt.scatter(X[model_predict == 1, 0], X[model_predict == 1, 1], s = size, c = 'blue', label = 'Brand 2')\n",
    "plt.scatter(X[model_predict == 2, 0], X[model_predict == 2, 1], s = size, c = 'yellow', label = 'Brand 3')\n",
    "plt.scatter(model.cluster_centers_[:, 0], model.cluster_centers_[:, 1], s = 60, c = 'black', label = 'Centroid')\n",
    "plt.title('Car Brands')\n",
    "plt.legend()\n",
    "plt.show()"
   ]
  },
  {
   "cell_type": "code",
   "execution_count": null,
   "metadata": {},
   "outputs": [],
   "source": []
  }
 ],
 "metadata": {
  "kernelspec": {
   "display_name": "Python 3",
   "language": "python",
   "name": "python3"
  },
  "language_info": {
   "codemirror_mode": {
    "name": "ipython",
    "version": 3
   },
   "file_extension": ".py",
   "mimetype": "text/x-python",
   "name": "python",
   "nbconvert_exporter": "python",
   "pygments_lexer": "ipython3",
   "version": "3.6.6"
  }
 },
 "nbformat": 4,
 "nbformat_minor": 2
}
